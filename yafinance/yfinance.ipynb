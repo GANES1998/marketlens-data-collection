{
 "cells": [
  {
   "cell_type": "code",
   "execution_count": 1,
   "metadata": {
    "collapsed": true
   },
   "outputs": [],
   "source": [
    "import pandas as pd\n",
    "import yfinance as yf"
   ]
  },
  {
   "cell_type": "code",
   "execution_count": 129,
   "outputs": [],
   "source": [
    "all = yf.Ticker('AMZN MSFT GOOGL ADP')"
   ],
   "metadata": {
    "collapsed": false
   }
  },
  {
   "cell_type": "code",
   "execution_count": 4,
   "outputs": [],
   "source": [
    "df = yf.Ticker('AMZN').history(start=\"2016-01-01\", end=\"2022-11-24\", as_dict=True)"
   ],
   "metadata": {
    "collapsed": false
   }
  },
  {
   "cell_type": "code",
   "execution_count": 7,
   "outputs": [
    {
     "data": {
      "text/plain": "                                Open       High        Low      Close  \\\nDate                                                                    \n2016-01-04 00:00:00-05:00  32.814499  32.886002  31.375500  31.849501   \n2016-01-05 00:00:00-05:00  32.342999  32.345501  31.382500  31.689501   \n2016-01-06 00:00:00-05:00  31.100000  31.989500  31.015499  31.632500   \n2016-01-07 00:00:00-05:00  31.090000  31.500000  30.260500  30.396999   \n2016-01-08 00:00:00-05:00  30.983000  31.207001  30.299999  30.352501   \n\n                              Volume  Dividends  Stock Splits  \nDate                                                           \n2016-01-04 00:00:00-05:00  186290000          0           0.0  \n2016-01-05 00:00:00-05:00  116452000          0           0.0  \n2016-01-06 00:00:00-05:00  106584000          0           0.0  \n2016-01-07 00:00:00-05:00  141498000          0           0.0  \n2016-01-08 00:00:00-05:00  110258000          0           0.0  ",
      "text/html": "<div>\n<style scoped>\n    .dataframe tbody tr th:only-of-type {\n        vertical-align: middle;\n    }\n\n    .dataframe tbody tr th {\n        vertical-align: top;\n    }\n\n    .dataframe thead th {\n        text-align: right;\n    }\n</style>\n<table border=\"1\" class=\"dataframe\">\n  <thead>\n    <tr style=\"text-align: right;\">\n      <th></th>\n      <th>Open</th>\n      <th>High</th>\n      <th>Low</th>\n      <th>Close</th>\n      <th>Volume</th>\n      <th>Dividends</th>\n      <th>Stock Splits</th>\n    </tr>\n    <tr>\n      <th>Date</th>\n      <th></th>\n      <th></th>\n      <th></th>\n      <th></th>\n      <th></th>\n      <th></th>\n      <th></th>\n    </tr>\n  </thead>\n  <tbody>\n    <tr>\n      <th>2016-01-04 00:00:00-05:00</th>\n      <td>32.814499</td>\n      <td>32.886002</td>\n      <td>31.375500</td>\n      <td>31.849501</td>\n      <td>186290000</td>\n      <td>0</td>\n      <td>0.0</td>\n    </tr>\n    <tr>\n      <th>2016-01-05 00:00:00-05:00</th>\n      <td>32.342999</td>\n      <td>32.345501</td>\n      <td>31.382500</td>\n      <td>31.689501</td>\n      <td>116452000</td>\n      <td>0</td>\n      <td>0.0</td>\n    </tr>\n    <tr>\n      <th>2016-01-06 00:00:00-05:00</th>\n      <td>31.100000</td>\n      <td>31.989500</td>\n      <td>31.015499</td>\n      <td>31.632500</td>\n      <td>106584000</td>\n      <td>0</td>\n      <td>0.0</td>\n    </tr>\n    <tr>\n      <th>2016-01-07 00:00:00-05:00</th>\n      <td>31.090000</td>\n      <td>31.500000</td>\n      <td>30.260500</td>\n      <td>30.396999</td>\n      <td>141498000</td>\n      <td>0</td>\n      <td>0.0</td>\n    </tr>\n    <tr>\n      <th>2016-01-08 00:00:00-05:00</th>\n      <td>30.983000</td>\n      <td>31.207001</td>\n      <td>30.299999</td>\n      <td>30.352501</td>\n      <td>110258000</td>\n      <td>0</td>\n      <td>0.0</td>\n    </tr>\n  </tbody>\n</table>\n</div>"
     },
     "execution_count": 7,
     "metadata": {},
     "output_type": "execute_result"
    }
   ],
   "source": [
    "df.head()"
   ],
   "metadata": {
    "collapsed": false
   }
  },
  {
   "cell_type": "code",
   "execution_count": 15,
   "outputs": [],
   "source": [
    "df.index = df.index.strftime('%d-%b-%Y')"
   ],
   "metadata": {
    "collapsed": false
   }
  },
  {
   "cell_type": "code",
   "execution_count": 17,
   "outputs": [
    {
     "data": {
      "text/plain": "                  Open       High        Low      Close     Volume  Dividends  \\\nDate                                                                            \n04-Jan-2016  32.814499  32.886002  31.375500  31.849501  186290000          0   \n05-Jan-2016  32.342999  32.345501  31.382500  31.689501  116452000          0   \n06-Jan-2016  31.100000  31.989500  31.015499  31.632500  106584000          0   \n07-Jan-2016  31.090000  31.500000  30.260500  30.396999  141498000          0   \n08-Jan-2016  30.983000  31.207001  30.299999  30.352501  110258000          0   \n\n             Stock Splits  \nDate                       \n04-Jan-2016           0.0  \n05-Jan-2016           0.0  \n06-Jan-2016           0.0  \n07-Jan-2016           0.0  \n08-Jan-2016           0.0  ",
      "text/html": "<div>\n<style scoped>\n    .dataframe tbody tr th:only-of-type {\n        vertical-align: middle;\n    }\n\n    .dataframe tbody tr th {\n        vertical-align: top;\n    }\n\n    .dataframe thead th {\n        text-align: right;\n    }\n</style>\n<table border=\"1\" class=\"dataframe\">\n  <thead>\n    <tr style=\"text-align: right;\">\n      <th></th>\n      <th>Open</th>\n      <th>High</th>\n      <th>Low</th>\n      <th>Close</th>\n      <th>Volume</th>\n      <th>Dividends</th>\n      <th>Stock Splits</th>\n    </tr>\n    <tr>\n      <th>Date</th>\n      <th></th>\n      <th></th>\n      <th></th>\n      <th></th>\n      <th></th>\n      <th></th>\n      <th></th>\n    </tr>\n  </thead>\n  <tbody>\n    <tr>\n      <th>04-Jan-2016</th>\n      <td>32.814499</td>\n      <td>32.886002</td>\n      <td>31.375500</td>\n      <td>31.849501</td>\n      <td>186290000</td>\n      <td>0</td>\n      <td>0.0</td>\n    </tr>\n    <tr>\n      <th>05-Jan-2016</th>\n      <td>32.342999</td>\n      <td>32.345501</td>\n      <td>31.382500</td>\n      <td>31.689501</td>\n      <td>116452000</td>\n      <td>0</td>\n      <td>0.0</td>\n    </tr>\n    <tr>\n      <th>06-Jan-2016</th>\n      <td>31.100000</td>\n      <td>31.989500</td>\n      <td>31.015499</td>\n      <td>31.632500</td>\n      <td>106584000</td>\n      <td>0</td>\n      <td>0.0</td>\n    </tr>\n    <tr>\n      <th>07-Jan-2016</th>\n      <td>31.090000</td>\n      <td>31.500000</td>\n      <td>30.260500</td>\n      <td>30.396999</td>\n      <td>141498000</td>\n      <td>0</td>\n      <td>0.0</td>\n    </tr>\n    <tr>\n      <th>08-Jan-2016</th>\n      <td>30.983000</td>\n      <td>31.207001</td>\n      <td>30.299999</td>\n      <td>30.352501</td>\n      <td>110258000</td>\n      <td>0</td>\n      <td>0.0</td>\n    </tr>\n  </tbody>\n</table>\n</div>"
     },
     "execution_count": 17,
     "metadata": {},
     "output_type": "execute_result"
    }
   ],
   "source": [
    "df.head()"
   ],
   "metadata": {
    "collapsed": false
   }
  },
  {
   "cell_type": "code",
   "execution_count": 21,
   "outputs": [],
   "source": [
    "splits = msft.get_balancesheet(freq='quarterly', as_dict=True)"
   ],
   "metadata": {
    "collapsed": false
   }
  },
  {
   "cell_type": "code",
   "execution_count": 74,
   "outputs": [
    {
     "data": {
      "text/plain": "{'fullTimeEmployees': 1544000,\n 'totalRevenue': 502190997504,\n 'marketCap': 960286031872,\n 'volume': 57938298}"
     },
     "execution_count": 74,
     "metadata": {},
     "output_type": "execute_result"
    }
   ],
   "source": [
    "details = ['fullTimeEmployees', 'volume', 'marketCap', 'totalDept', 'totalRevenue']\n",
    "\n",
    "needed = {}\n",
    "\n",
    "for key in amzn.info:\n",
    "    if key in details:\n",
    "        needed[key] = amzn.info[key]\n",
    "\n",
    "needed"
   ],
   "metadata": {
    "collapsed": false
   }
  },
  {
   "cell_type": "code",
   "execution_count": 119,
   "outputs": [],
   "source": [
    "tsla = 1\n",
    "\n",
    "shares = yf.Ticker('MSFT').get_shares().values[-1][0]"
   ],
   "metadata": {
    "collapsed": false
   }
  },
  {
   "cell_type": "code",
   "execution_count": 120,
   "outputs": [
    {
     "data": {
      "text/plain": "7496000000"
     },
     "execution_count": 120,
     "metadata": {},
     "output_type": "execute_result"
    }
   ],
   "source": [
    "shares"
   ],
   "metadata": {
    "collapsed": false
   }
  },
  {
   "cell_type": "code",
   "execution_count": 115,
   "outputs": [],
   "source": [
    "yf.Ticker('TSLA').shares"
   ],
   "metadata": {
    "collapsed": false
   }
  },
  {
   "cell_type": "code",
   "execution_count": 114,
   "outputs": [],
   "source": [
    "yf.Ticker('MSFT').get_shares()"
   ],
   "metadata": {
    "collapsed": false
   }
  },
  {
   "cell_type": "code",
   "execution_count": 94,
   "outputs": [],
   "source": [
    "sp = yf.Ticker('SPC')"
   ],
   "metadata": {
    "collapsed": false
   }
  },
  {
   "cell_type": "code",
   "execution_count": 98,
   "outputs": [
    {
     "ename": "KeyError",
     "evalue": "'shares'",
     "output_type": "error",
     "traceback": [
      "\u001B[0;31m---------------------------------------------------------------------------\u001B[0m",
      "\u001B[0;31mKeyError\u001B[0m                                  Traceback (most recent call last)",
      "Cell \u001B[0;32mIn [98], line 1\u001B[0m\n\u001B[0;32m----> 1\u001B[0m \u001B[43msp\u001B[49m\u001B[38;5;241;43m.\u001B[39;49m\u001B[43minfo\u001B[49m\u001B[43m[\u001B[49m\u001B[38;5;124;43m'\u001B[39;49m\u001B[38;5;124;43mshares\u001B[39;49m\u001B[38;5;124;43m'\u001B[39;49m\u001B[43m]\u001B[49m\n",
      "\u001B[0;31mKeyError\u001B[0m: 'shares'"
     ]
    }
   ],
   "source": [
    "sp.info."
   ],
   "metadata": {
    "collapsed": false
   }
  },
  {
   "cell_type": "code",
   "execution_count": 132,
   "outputs": [],
   "source": [
    "import pickle"
   ],
   "metadata": {
    "collapsed": false
   }
  },
  {
   "cell_type": "code",
   "execution_count": 137,
   "outputs": [],
   "source": [
    "with open('../status_dump/company_shares_status_dumps.pickle', 'wb+') as fp:\n",
    "\n",
    "    pickle.dump([\n",
    "        'GOOGL'\n",
    "    ], fp)\n"
   ],
   "metadata": {
    "collapsed": false
   }
  },
  {
   "cell_type": "code",
   "execution_count": null,
   "outputs": [],
   "source": [],
   "metadata": {
    "collapsed": false
   }
  }
 ],
 "metadata": {
  "kernelspec": {
   "display_name": "Python 3",
   "language": "python",
   "name": "python3"
  },
  "language_info": {
   "codemirror_mode": {
    "name": "ipython",
    "version": 2
   },
   "file_extension": ".py",
   "mimetype": "text/x-python",
   "name": "python",
   "nbconvert_exporter": "python",
   "pygments_lexer": "ipython2",
   "version": "2.7.6"
  }
 },
 "nbformat": 4,
 "nbformat_minor": 0
}
